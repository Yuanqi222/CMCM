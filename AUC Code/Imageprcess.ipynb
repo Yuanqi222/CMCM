{
 "cells": [
  {
   "cell_type": "code",
   "execution_count": 1,
   "metadata": {},
   "outputs": [],
   "source": [
    "from PIL import Image\n",
    "\n",
    "# Load the images\n",
    "image1 = Image.open(\"1.png\")\n",
    "image2 = Image.open(\"2.png\")\n",
    "image3 = Image.open(\"3.png\")\n",
    "image4 = Image.open(\"4.png\")\n",
    "\n",
    "# Crop 50 pixels from the left and right of the first image\n",
    "image1 = image1.crop((100, 0, image1.width - 150, image1.height))\n",
    "\n",
    "# Calculate the minimum width among all images after cropping\n",
    "min_width = min(image.width for image in [image1, image2, image3, image4])\n",
    "\n",
    "# Resize each image to the minimum width while keeping aspect ratio\n",
    "def resize_image(image, target_width):\n",
    "    # Calculate the new height proportional to the target width\n",
    "    aspect_ratio = image.height / image.width\n",
    "    new_height = int(target_width * aspect_ratio)\n",
    "    return image.resize((target_width, new_height))\n",
    "\n",
    "image1 = resize_image(image1, min_width)\n",
    "image2 = resize_image(image2, min_width)\n",
    "image3 = resize_image(image3, min_width)\n",
    "image4 = resize_image(image4, min_width)\n",
    "\n",
    "# Calculate the total height for the combined image\n",
    "total_height = image1.height + image2.height + image3.height + image4.height\n",
    "\n",
    "# Create a new image with the combined height and the minimum width\n",
    "merged_image = Image.new(\"RGB\", (min_width, total_height))\n",
    "\n",
    "# Paste each image into the merged_image\n",
    "merged_image.paste(image1, (0, 0))\n",
    "merged_image.paste(image2, (0, image1.height))\n",
    "merged_image.paste(image3, (0, image1.height + image2.height))\n",
    "merged_image.paste(image4, (0, image1.height + image2.height + image3.height))\n",
    "\n",
    "# Save or show the merged image\n",
    "merged_image.save(\"merged_image_vertical_proportional.jpg\")\n",
    "merged_image.show()"
   ]
  },
  {
   "cell_type": "code",
   "execution_count": null,
   "metadata": {},
   "outputs": [],
   "source": []
  }
 ],
 "metadata": {
  "kernelspec": {
   "display_name": "Python 3",
   "language": "python",
   "name": "python3"
  },
  "language_info": {
   "codemirror_mode": {
    "name": "ipython",
    "version": 3
   },
   "file_extension": ".py",
   "mimetype": "text/x-python",
   "name": "python",
   "nbconvert_exporter": "python",
   "pygments_lexer": "ipython3",
   "version": "3.11.10"
  }
 },
 "nbformat": 4,
 "nbformat_minor": 2
}
