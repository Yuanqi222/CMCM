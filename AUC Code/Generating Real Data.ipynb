{
 "cells": [
  {
   "cell_type": "code",
   "execution_count": 9,
   "metadata": {},
   "outputs": [
    {
     "name": "stdout",
     "output_type": "stream",
     "text": [
      "DISTRICT: MN01, FREQ_REFUSE: Mon, Wed, Fri\n",
      "DISTRICT: MN02, FREQ_REFUSE: Tue, Thu, Sat\n",
      "DISTRICT: MN03, FREQ_REFUSE: Mon, Wed, Fri\n",
      "DISTRICT: MN04, FREQ_REFUSE: Mon, Wed, Fri\n",
      "DISTRICT: MN05, FREQ_REFUSE: Mon, Wed, Fri\n",
      "DISTRICT: MN06, FREQ_REFUSE: Tue, Thu, Sat\n",
      "DISTRICT: MN07, FREQ_REFUSE: Tue, Thu, Sat\n",
      "DISTRICT: MN08, FREQ_REFUSE: Mon, Wed, Fri\n",
      "DISTRICT: MN09, FREQ_REFUSE: Mon, Wed, Fri\n",
      "DISTRICT: MN10, FREQ_REFUSE: Tue, Thu, Sat\n",
      "DISTRICT: MN11, FREQ_REFUSE: Tue, Thu, Sat\n",
      "DISTRICT: MN12, FREQ_REFUSE: Tue, Thu, Sat\n"
     ]
    },
    {
     "name": "stderr",
     "output_type": "stream",
     "text": [
      "/var/folders/ql/dklml2ln7dnf6l874y2q745w0000gn/T/ipykernel_43169/3025551415.py:11: DeprecationWarning: DataFrameGroupBy.apply operated on the grouping columns. This behavior is deprecated, and in a future version of pandas the grouping columns will be excluded from the operation. Either pass `include_groups=False` to exclude the groupings or explicitly select the grouping columns after groupby to silence this warning.\n",
      "  selected_rows = filtered_data.groupby('DISTRICT').apply(lambda x: x.sample(1))\n"
     ]
    }
   ],
   "source": [
    "import pandas as pd\n",
    "import random\n",
    "\n",
    "day_mapping = {\n",
    "    \"Mon\": 2,\n",
    "    \"Tue\": 3,\n",
    "    \"Wed\": 4,\n",
    "    \"Thu\": 5,\n",
    "    \"Fri\": 6,\n",
    "    \"Sat\": 7,\n",
    "    \"Sun\": 1\n",
    "}\n",
    "\n",
    "# Load the data\n",
    "dsny_data = pd.read_csv(\"DSNY_Frequencies.csv\")\n",
    "\n",
    "# Filter the DISTRICT column for values matching \"MN01\" to \"MN12\"\n",
    "filtered_data = dsny_data[dsny_data['DISTRICT'].str.match(r'MN(0[1-9]|1[0-2])')]\n",
    "\n",
    "# Group by DISTRICT and randomly select one row per \"MNxx\" district\n",
    "selected_rows = filtered_data.groupby('DISTRICT').apply(lambda x: x.sample(1))\n",
    "\n",
    "# Print the FREQ_REFUSE values for the selected districts\n",
    "for _, row in selected_rows.iterrows():\n",
    "    print(f\"DISTRICT: {row['DISTRICT']}, FREQ_REFUSE: {row['FREQ_REFUSE']}\")"
   ]
  },
  {
   "cell_type": "code",
   "execution_count": null,
   "metadata": {},
   "outputs": [],
   "source": []
  }
 ],
 "metadata": {
  "kernelspec": {
   "display_name": "Python 3",
   "language": "python",
   "name": "python3"
  },
  "language_info": {
   "codemirror_mode": {
    "name": "ipython",
    "version": 3
   },
   "file_extension": ".py",
   "mimetype": "text/x-python",
   "name": "python",
   "nbconvert_exporter": "python",
   "pygments_lexer": "ipython3",
   "version": "3.11.10"
  }
 },
 "nbformat": 4,
 "nbformat_minor": 2
}
